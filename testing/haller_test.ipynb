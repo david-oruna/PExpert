{
 "cells": [
  {
   "cell_type": "code",
   "execution_count": 14,
   "id": "1c0dde21",
   "metadata": {},
   "outputs": [],
   "source": [
    "from PIL import Image\n",
    "import numpy as np\n",
    "import cv2"
   ]
  },
  {
   "cell_type": "code",
   "execution_count": 36,
   "id": "7e78b158",
   "metadata": {},
   "outputs": [
    {
     "data": {
      "image/png": "[encoded data removed]",
      "text/plain": [
       "<PIL.PngImagePlugin.PngImageFile image mode=RGBA size=640x480>"
      ]
     },
     "execution_count": 36,
     "metadata": {},
     "output_type": "execute_result"
    }
   ],
   "source": [
    "img = r\"C:\\Users\\DHO_d\\OneDrive\\PE\\haller_index_process\\data\\synthetic_ct_pe\\pre_surgery\\ct_424.png\"\n",
    "Image.open(img)"
   ]
  },
  {
   "cell_type": "code",
   "execution_count": 37,
   "id": "a3c13c42",
   "metadata": {},
   "outputs": [
    {
     "data": {
      "text/plain": [
       "array([[0, 0, 0, ..., 0, 0, 0],\n",
       "       [0, 0, 0, ..., 0, 0, 0],\n",
       "       [0, 0, 0, ..., 0, 0, 0],\n",
       "       ...,\n",
       "       [0, 0, 0, ..., 0, 0, 0],\n",
       "       [0, 0, 0, ..., 0, 0, 0],\n",
       "       [0, 0, 0, ..., 0, 0, 0]], dtype=uint8)"
      ]
     },
     "execution_count": 37,
     "metadata": {},
     "output_type": "execute_result"
    }
   ],
   "source": [
    "image = cv2.imread(img, cv2.IMREAD_GRAYSCALE)\n",
    "image"
   ]
  },
  {
   "cell_type": "code",
   "execution_count": 38,
   "id": "c510ba42",
   "metadata": {},
   "outputs": [],
   "source": [
    "# Step 2: Threshold the image\n",
    "_, binary_image = cv2.threshold(image, 0, 255, cv2.THRESH_BINARY)\n",
    "\n",
    "# Step 3: Noise reduction (morphological opening)\n",
    "kernel = np.ones((5,5), np.uint8)  # Adjust the kernel size as needed\n",
    "opened_image = cv2.morphologyEx(binary_image, cv2.MORPH_OPEN, kernel)\n",
    "\n",
    "# Step 4: Fill small gaps (morphological closing)\n",
    "closed_image = cv2.morphologyEx(opened_image, cv2.MORPH_CLOSE, kernel)\n"
   ]
  },
  {
   "cell_type": "code",
   "execution_count": 39,
   "id": "01211089",
   "metadata": {},
   "outputs": [
    {
     "name": "stdout",
     "output_type": "stream",
     "text": [
      "125\n"
     ]
    }
   ],
   "source": [
    "rows, cols = np.where(binary_image == 255)\n",
    "\n",
    "min_col, max_col = cols.min(), cols.max()\n",
    "\n",
    "center_col = (min_col + max_col) // 2\n",
    "\n",
    "white_pixel_rows = np.where(binary_image[:, center_col]==255)[0]\n",
    "\n",
    "if white_pixel_rows.size >0:\n",
    "    vertical_distance= white_pixel_rows.max() - white_pixel_rows.min()  \n",
    "else:\n",
    "    vertical_distance = 0\n",
    "\n",
    "print(vertical_distance)    "
   ]
  },
  {
   "cell_type": "code",
   "execution_count": 41,
   "id": "78710fbb",
   "metadata": {},
   "outputs": [
    {
     "name": "stdout",
     "output_type": "stream",
     "text": [
      "241\n"
     ]
    }
   ],
   "source": [
    "\n",
    "horizontal_distances = []\n",
    "\n",
    "for row in range(binary_image.shape[0]):\n",
    "    white_pixel_columns = np.where(binary_image[row, :] == 255)[0]\n",
    "    \n",
    "    if white_pixel_columns.size > 0:\n",
    "        horizontal_distance = white_pixel_columns.max()-white_pixel_columns.min()\n",
    "        horizontal_distances.append(horizontal_distance)\n",
    "\n",
    "if horizontal_distances:\n",
    "    max_horizontal_distance = max(horizontal_distances)\n",
    "    print(max_horizontal_distance)\n",
    "else:\n",
    "    print(\"No horizontal distance found.\")\n"
   ]
  },
  {
   "cell_type": "code",
   "execution_count": 42,
   "id": "c50e5484",
   "metadata": {},
   "outputs": [
    {
     "name": "stdout",
     "output_type": "stream",
     "text": [
      "Haller:  1.928\n"
     ]
    }
   ],
   "source": [
    "print(\"Haller: \", max_horizontal_distance/vertical_distance)"
   ]
  },
  {
   "cell_type": "code",
   "execution_count": 21,
   "id": "07cd3cca",
   "metadata": {},
   "outputs": [],
   "source": [
    "def haller_index(img_path):\n",
    "    image = cv2.imread(img_path, cv2.IMREAD_GRAYSCALE)\n",
    "    \n",
    "    _, binary_image = cv2.threshold(image, 0, 255, cv2.THRESH_BINARY)\n",
    "\n",
    "    kernel = np.ones((5,5), np.uint8)\n",
    "    opened_image = cv2.morphologyEx(binary_image, cv2.MORPH_OPEN, kernel)\n",
    "\n",
    "    closed_image = cv2.morphologyEx(opened_image, cv2.MORPH_CLOSE, kernel)\n",
    "\n",
    "    rows, cols = np.where(binary_image == 255)\n",
    "    min_col, max_col = cols.min(), cols.max()\n",
    "    center_col = (min_col + max_col) // 2\n",
    "    white_pixel_rows = np.where(binary_image[:, center_col]==255)[0]\n",
    "    if white_pixel_rows.size > 0:\n",
    "        vertical_distance = white_pixel_rows.max() - white_pixel_rows.min()\n",
    "    else:\n",
    "        vertical_distance = 0\n",
    "\n",
    "    horizontal_distances = []\n",
    "    for row in range(binary_image.shape[0]):\n",
    "        white_pixel_columns = np.where(binary_image[row, :] == 255)[0]\n",
    "        if white_pixel_columns.size > 0:\n",
    "            horizontal_distance = white_pixel_columns.max()-white_pixel_columns.min()\n",
    "            horizontal_distances.append(horizontal_distance)\n",
    "\n",
    "    if horizontal_distances:\n",
    "        max_horizontal_distance = max(horizontal_distances)\n",
    "        haller_index = max_horizontal_distance / vertical_distance\n",
    "        return haller_index\n",
    "    else:\n",
    "        return None\n",
    "\n"
   ]
  }
 ],
 "metadata": {
  "kernelspec": {
   "display_name": "Python 3",
   "language": "python",
   "name": "python3"
  },
  "language_info": {
   "codemirror_mode": {
    "name": "ipython",
    "version": 3
   },
   "file_extension": ".py",
   "mimetype": "text/x-python",
   "name": "python",
   "nbconvert_exporter": "python",
   "pygments_lexer": "ipython3",
   "version": "3.12.0"
  }
 },
 "nbformat": 4,
 "nbformat_minor": 5
}
