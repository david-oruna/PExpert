{
 "cells": [
  {
   "cell_type": "code",
   "execution_count": 1,
   "id": "b9c7959f-41a9-4113-9e40-51bd77964715",
   "metadata": {},
   "outputs": [],
   "source": [
    "import matplotlib.pyplot as plt\n",
    "import numpy as np\n",
    "import cv2 as cv\n",
    "from utils import haller_index\n",
    "import pandas as pd\n",
    "import os"
   ]
  },
  {
   "cell_type": "code",
   "execution_count": 2,
   "id": "45581fa4",
   "metadata": {},
   "outputs": [],
   "source": [
    "\n",
    "def export_haller_index(pre_dir, post_dir):\n",
    "    pre = [img for img in os.listdir(pre_dir) if img.endswith(('.png','.jpg', '.jpeg'))]\n",
    "    post = [img for img in os.listdir(post_dir) if img.endswith(('.png','.jpg', '.jpeg'))]\n",
    "\n",
    "    if len(pre) != len(post):\n",
    "        raise ValueError('Number of images in pre and post directories must be equal')\n",
    "    \n",
    "    # find haller index pre and post surgery for each patient (the same filename)\n",
    "    # check if the files have the same name\n",
    "    pre.sort()\n",
    "    post.sort()\n",
    "\n",
    "    haller_index_pre = []\n",
    "    haller_index_post = []\n",
    "    \n",
    "    for img in pre:\n",
    "\n",
    "        img_pre_path= os.path.join(pre_dir, img)\n",
    "        haller_index_pre.append(haller_index(img_pre_path))\n",
    "        img_post_path= os.path.join(post_dir, img)  \n",
    "        haller_index_post.append(haller_index(img_post_path))\n",
    "    \n",
    "    # save to csv\n",
    "    df = pd.DataFrame({'pre_haller': haller_index_pre, 'post_haller': haller_index_post})\n",
    "    # save it in results folder\n",
    "    df.to_csv('results/haller_index.csv', index=False)\n",
    "    \n",
    "    print(df)\n",
    "   "
   ]
  },
  {
   "cell_type": "code",
   "execution_count": 3,
   "id": "97e98010",
   "metadata": {},
   "outputs": [
    {
     "name": "stdout",
     "output_type": "stream",
     "text": [
      "     pre_haller  post_haller\n",
      "0      2.371901     1.926174\n",
      "1      2.432432     1.888112\n",
      "2      2.225000     1.828767\n",
      "3      2.347826     1.928571\n",
      "4      2.596154     1.800000\n",
      "..          ...          ...\n",
      "995    2.615385     2.029851\n",
      "996    2.551402     1.936170\n",
      "997    2.587156     2.043478\n",
      "998    2.596154     1.788079\n",
      "999    3.285714     2.123077\n",
      "\n",
      "[1000 rows x 2 columns]\n"
     ]
    }
   ],
   "source": [
    "r'C:\\Users\\DHO_d\\OneDrive\\PE\\haller_index_process\\data\\synthetic_ct_pe\\pre_surgery'\n",
    "r'C:\\Users\\DHO_d\\OneDrive\\PE\\haller_index_process\\data\\synthetic_ct_pe\\post_surgery'\n",
    "\n",
    "export_haller_index(r'C:\\Users\\DHO_d\\OneDrive\\PE\\haller_index_process\\data\\test\\pre_surgery',r'C:\\Users\\DHO_d\\OneDrive\\PE\\haller_index_process\\data\\test\\post_surgery')\n"
   ]
  }
 ],
 "metadata": {
  "kernelspec": {
   "display_name": "Python 3 (ipykernel)",
   "language": "python",
   "name": "python3"
  },
  "language_info": {
   "codemirror_mode": {
    "name": "ipython",
    "version": 3
   },
   "file_extension": ".py",
   "mimetype": "text/x-python",
   "name": "python",
   "nbconvert_exporter": "python",
   "pygments_lexer": "ipython3",
   "version": "3.12.0"
  }
 },
 "nbformat": 4,
 "nbformat_minor": 5
}
