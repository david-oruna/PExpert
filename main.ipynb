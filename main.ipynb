{
 "cells": [
  {
   "cell_type": "code",
   "execution_count": 1,
   "id": "a2a69dfa-50d3-4573-be8e-5ca642c206e7",
   "metadata": {},
   "outputs": [
    {
     "name": "stdout",
     "output_type": "stream",
     "text": [
      "Predicted Post-Surgery Haller Index: 2.19\n"
     ]
    },
    {
     "name": "stderr",
     "output_type": "stream",
     "text": [
      "C:\\Users\\DHO_d\\AppData\\Local\\Programs\\Python\\Python310\\lib\\site-packages\\sklearn\\base.py:465: UserWarning: X does not have valid feature names, but StandardScaler was fitted with feature names\n",
      "  warnings.warn(\n"
     ]
    }
   ],
   "source": [
    "import utils\n",
    "import joblib\n",
    "import numpy as  np\n",
    "def test_new_image(image_path, model, scaler):\n",
    "    # Load and preprocess the image\n",
    "    image = utils.load_and_preprocess_image(image_path)\n",
    "    binary = utils.preprocess_image(image)\n",
    "    \n",
    "    # Find the inner contour\n",
    "    inner_contour = utils.find_inner_contour(binary)\n",
    "    \n",
    "    if inner_contour is not None:\n",
    "        # Calculate diameters\n",
    "        transverse_diameter, ap_diameter, x_coords, y_coords = utils.calculate_diameters(inner_contour)\n",
    "        \n",
    "        # Calculate the Haller index\n",
    "        haller_index = transverse_diameter / ap_diameter\n",
    "        \n",
    "        # Prepare the feature vector\n",
    "        features = np.array([[transverse_diameter, ap_diameter, haller_index]])\n",
    "        \n",
    "        # Scale the features\n",
    "        features_scaled = scaler.transform(features)\n",
    "        \n",
    "        # Predict the post-surgery Haller index\n",
    "        predicted_haller_index = model.predict(features_scaled)\n",
    "        \n",
    "        print(f\"Predicted Post-Surgery Haller Index: {predicted_haller_index[0]:.2f}\")\n",
    "    else:\n",
    "        print(\"No inner contour found in the image.\")\n",
    "\n",
    "# Path to the new image\n",
    "new_image_path = 'pectus_ct_948.png'\n",
    "\n",
    "# Load the best model and scaler\n",
    "model = joblib.load('best_model.pkl')\n",
    "scaler = joblib.load('scaler.pkl')\n",
    "\n",
    "# Test the new image\n",
    "test_new_image(new_image_path, model, scaler)\n"
   ]
  },
  {
   "cell_type": "code",
   "execution_count": null,
   "id": "7377d3fe-b73d-46da-af2e-32b38ebb9c30",
   "metadata": {},
   "outputs": [],
   "source": []
  }
 ],
 "metadata": {
  "kernelspec": {
   "display_name": "Python 3 (ipykernel)",
   "language": "python",
   "name": "python3"
  },
  "language_info": {
   "codemirror_mode": {
    "name": "ipython",
    "version": 3
   },
   "file_extension": ".py",
   "mimetype": "text/x-python",
   "name": "python",
   "nbconvert_exporter": "python",
   "pygments_lexer": "ipython3",
   "version": "3.10.4"
  }
 },
 "nbformat": 4,
 "nbformat_minor": 5
}
