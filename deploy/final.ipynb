{
 "cells": [
  {
   "cell_type": "code",
   "execution_count": 15,
   "metadata": {},
   "outputs": [
    {
     "name": "stdout",
     "output_type": "stream",
     "text": [
      "Defaulting to user installation because normal site-packages is not writeable\n",
      "Requirement already satisfied: opencv-python in c:\\users\\dho_d\\appdata\\roaming\\python\\python39\\site-packages (4.10.0.84)\n",
      "Requirement already satisfied: numpy>=1.19.3 in c:\\users\\dho_d\\appdata\\roaming\\python\\python39\\site-packages (from opencv-python) (1.26.2)\n"
     ]
    }
   ],
   "source": [
    "!pip install opencv-python"
   ]
  },
  {
   "cell_type": "code",
   "execution_count": 1,
   "metadata": {},
   "outputs": [],
   "source": [
    "\n",
    "import numpy as np\n",
    "import joblib\n",
    "import gradio as gr\n",
    "\n",
    "def test_model(pectus_tomografía):\n",
    "    indx = haller_index_(pectus_tomografía)\n",
    "    model = joblib.load('model.pkl')\n",
    "    # Ensure prediction is a numpy array\n",
    "    prediction = np.array(model.predict(indx.reshape(-1, 1)))\n",
    "    \n",
    "    # Perform the addition\n",
    "    prediction_adjusted = np.round(prediction, 2) + 2\n",
    "    \n",
    "    # Ensure indx is processed similarly\n",
    "    indx_adjusted = np.round(indx, 2) + .5\n",
    "    recomendaciones = {\n",
    "        'Normal': 'No se requiere ninguna acción específica. Se recomiendan revisiones periódicas',\n",
    "        'Leve': 'Considere cambios en el estilo de vida y controle los síntomas. Consultar a un especialista si persisten los síntomas',\n",
    "        'Moderado': 'Se recomienda consultar a un especialista sobre posibles opciones de tratamiento',\n",
    "        'Severo': 'Se recomienda consultar inmediatamente a un especialista. Discutir opciones de tratamiento quirúrgico y no quirúrgico.'\n",
    "    }\n",
    "\n",
    "    # Adjusted to handle scalar value from numpy array\n",
    "    indx_scalar = indx_adjusted.item()  # Convert numpy array to scalar\n",
    "    prediction_scalar = prediction_adjusted.item()  # Convert numpy array to scalar\n",
    "\n",
    "    if indx_scalar < 2.5:\n",
    "        indxt = 'Normal'\n",
    "    elif indx_scalar >= 2.5 and indx_scalar < 3.25:\n",
    "        indxt = 'Leve'\n",
    "    elif indx_scalar >= 3.25 and indx_scalar < 3.5:\n",
    "        indxt = 'Moderado'\n",
    "    else:\n",
    "        indxt = 'Severo'\n",
    "\n",
    "    if prediction_scalar < 2.5:\n",
    "        predictiont = 'Normal'\n",
    "    elif prediction_scalar >= 2.5 and prediction_scalar < 3.25:\n",
    "        predictiont = 'Leve'\n",
    "    elif prediction_scalar >= 3.25 and prediction_scalar < 3.5:\n",
    "        predictiont = 'Moderado'\n",
    "    else:\n",
    "        predictiont = 'Severo'\n",
    "\n",
    "    return \"Diagnóstico: \\nÍndice de Haller Actual: {} ({})\\n\\nÍndice de Haller Post Operatorio: {} ({})\\n\\nRecomendaciones: {}\".format(prediction_scalar, predictiont, indx_scalar, indxt, recomendaciones[predictiont])\n"
   ]
  },
  {
   "cell_type": "code",
   "execution_count": null,
   "metadata": {},
   "outputs": [],
   "source": [
    "\n",
    "# Create GUI with Gradio\n",
    "iface = gr.Interface(fn=test_model, inputs=\"image\", outputs=\"text\")\n",
    "iface.launch(share=True)\n"
   ]
  }
 ],
 "metadata": {
  "kernelspec": {
   "display_name": "base",
   "language": "python",
   "name": "python3"
  },
  "language_info": {
   "codemirror_mode": {
    "name": "ipython",
    "version": 3
   },
   "file_extension": ".py",
   "mimetype": "text/x-python",
   "name": "python",
   "nbconvert_exporter": "python",
   "pygments_lexer": "ipython3",
   "version": "3.9.12"
  }
 },
 "nbformat": 4,
 "nbformat_minor": 2
}
